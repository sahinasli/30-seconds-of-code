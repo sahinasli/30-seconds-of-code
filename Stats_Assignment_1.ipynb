{
  "cells": [
    {
      "cell_type": "markdown",
      "metadata": {
        "id": "view-in-github",
        "colab_type": "text"
      },
      "source": [
        "<a href=\"https://colab.research.google.com/github/sahinasli/30-seconds-of-code/blob/master/Stats_Assignment_1.ipynb\" target=\"_parent\"><img src=\"https://colab.research.google.com/assets/colab-badge.svg\" alt=\"Open In Colab\"/></a>"
      ]
    },
    {
      "cell_type": "markdown",
      "metadata": {
        "id": "K7S4cEyZLTp7"
      },
      "source": [
        "## Descriptive Statistics"
      ]
    },
    {
      "cell_type": "markdown",
      "metadata": {
        "id": "vZRYVyc8H7hi"
      },
      "source": [
        " Import **NumPy**, **SciPy**, and **Pandas**"
      ]
    },
    {
      "cell_type": "code",
      "execution_count": null,
      "metadata": {
        "id": "7ShN0klrHIk3",
        "scrolled": true,
        "outputId": "e96c84fd-8df7-4bc5-b22e-a8b8db5c4791"
      },
      "outputs": [
        {
          "name": "stdout",
          "output_type": "stream",
          "text": [
            "Requirement already satisfied: numpy in c:\\anaconda3\\lib\\site-packages (1.26.4)\n",
            "Requirement already satisfied: Pillow in c:\\anaconda3\\lib\\site-packages (10.2.0)\n"
          ]
        }
      ],
      "source": [
        "import sys\n",
        "!{sys.executable} -m pip install numpy\n",
        "!{sys.executable} -m pip install Pillow"
      ]
    },
    {
      "cell_type": "code",
      "execution_count": null,
      "metadata": {
        "scrolled": true,
        "id": "DrBKkXTqZsms"
      },
      "outputs": [],
      "source": [
        "import numpy as np\n",
        "import scipy as np\n",
        "import pandas as pd"
      ]
    },
    {
      "cell_type": "markdown",
      "metadata": {
        "id": "_SaQURIqIA6d"
      },
      "source": [
        " Randomly generate 1,000 samples from the normal distribution using `np.random.normal()`(mean = 100, standard deviation = 15)\n",
        "\n",
        "np.random.normal(loc=0.0, scale=1.0, size=None)  #you need to modify this code.\n",
        "\n",
        "loc will be equal to mean, scale will be equal to std deviation, size will be equal to sample size."
      ]
    },
    {
      "cell_type": "code",
      "execution_count": null,
      "metadata": {
        "id": "Jyw_FMX0IRkm",
        "outputId": "72eac65d-c491-492e-9584-37d33cadb9a3"
      },
      "outputs": [
        {
          "ename": "AttributeError",
          "evalue": "Module 'scipy' has no attribute 'random'",
          "output_type": "error",
          "traceback": [
            "\u001b[1;31m---------------------------------------------------------------------------\u001b[0m",
            "\u001b[1;31mKeyError\u001b[0m                                  Traceback (most recent call last)",
            "File \u001b[1;32mC:\\Anaconda3\\Lib\\site-packages\\scipy\\__init__.py:192\u001b[0m, in \u001b[0;36m__getattr__\u001b[1;34m(name)\u001b[0m\n\u001b[0;32m    191\u001b[0m \u001b[38;5;28;01mtry\u001b[39;00m:\n\u001b[1;32m--> 192\u001b[0m     \u001b[38;5;28;01mreturn\u001b[39;00m \u001b[38;5;28mglobals\u001b[39m()[name]\n\u001b[0;32m    193\u001b[0m \u001b[38;5;28;01mexcept\u001b[39;00m \u001b[38;5;167;01mKeyError\u001b[39;00m:\n",
            "\u001b[1;31mKeyError\u001b[0m: 'random'",
            "\nDuring handling of the above exception, another exception occurred:\n",
            "\u001b[1;31mAttributeError\u001b[0m                            Traceback (most recent call last)",
            "Cell \u001b[1;32mIn[11], line 1\u001b[0m\n\u001b[1;32m----> 1\u001b[0m samples \u001b[38;5;241m=\u001b[39m np\u001b[38;5;241m.\u001b[39mrandom\u001b[38;5;241m.\u001b[39mnormal(loc\u001b[38;5;241m=\u001b[39m\u001b[38;5;241m0\u001b[39m, scale\u001b[38;5;241m=\u001b[39m\u001b[38;5;241m1\u001b[39m, size\u001b[38;5;241m=\u001b[39m\u001b[38;5;28;01mNone\u001b[39;00m)\n",
            "File \u001b[1;32mC:\\Anaconda3\\Lib\\site-packages\\scipy\\__init__.py:194\u001b[0m, in \u001b[0;36m__getattr__\u001b[1;34m(name)\u001b[0m\n\u001b[0;32m    192\u001b[0m     \u001b[38;5;28;01mreturn\u001b[39;00m \u001b[38;5;28mglobals\u001b[39m()[name]\n\u001b[0;32m    193\u001b[0m \u001b[38;5;28;01mexcept\u001b[39;00m \u001b[38;5;167;01mKeyError\u001b[39;00m:\n\u001b[1;32m--> 194\u001b[0m     \u001b[38;5;28;01mraise\u001b[39;00m \u001b[38;5;167;01mAttributeError\u001b[39;00m(\n\u001b[0;32m    195\u001b[0m         \u001b[38;5;124mf\u001b[39m\u001b[38;5;124m\"\u001b[39m\u001b[38;5;124mModule \u001b[39m\u001b[38;5;124m'\u001b[39m\u001b[38;5;124mscipy\u001b[39m\u001b[38;5;124m'\u001b[39m\u001b[38;5;124m has no attribute \u001b[39m\u001b[38;5;124m'\u001b[39m\u001b[38;5;132;01m{\u001b[39;00mname\u001b[38;5;132;01m}\u001b[39;00m\u001b[38;5;124m'\u001b[39m\u001b[38;5;124m\"\u001b[39m\n\u001b[0;32m    196\u001b[0m     )\n",
            "\u001b[1;31mAttributeError\u001b[0m: Module 'scipy' has no attribute 'random'"
          ]
        }
      ],
      "source": [
        "samples = np.random.normal(loc=0, scale=1, size=None)"
      ]
    },
    {
      "cell_type": "markdown",
      "metadata": {
        "id": "CDF8m3a4IYOC"
      },
      "source": [
        "Compute the **mean**, **median**, and **mode**"
      ]
    },
    {
      "cell_type": "code",
      "execution_count": null,
      "metadata": {
        "id": "ZKbeqxaKIoNs",
        "outputId": "00ec458b-5b10-4079-b50a-ca87ae783a52"
      },
      "outputs": [
        {
          "ename": "SyntaxError",
          "evalue": "invalid syntax (2099403811.py, line 2)",
          "output_type": "error",
          "traceback": [
            "\u001b[1;36m  Cell \u001b[1;32mIn[12], line 2\u001b[1;36m\u001b[0m\n\u001b[1;33m    median =\u001b[0m\n\u001b[1;37m            ^\u001b[0m\n\u001b[1;31mSyntaxError\u001b[0m\u001b[1;31m:\u001b[0m invalid syntax\n"
          ]
        }
      ],
      "source": [
        "mean = np.mean(samples)\n",
        "median =\n",
        "mode ="
      ]
    },
    {
      "cell_type": "markdown",
      "metadata": {
        "id": "skT8m39XI60w"
      },
      "source": [
        "Compute the **min**, **max**, **Q1**, **Q3**, and **interquartile range**"
      ]
    },
    {
      "cell_type": "code",
      "execution_count": null,
      "metadata": {
        "id": "VaiDphm8It0O",
        "outputId": "20d9eed5-8d26-4511-898c-a78bcdce0b6d"
      },
      "outputs": [
        {
          "ename": "SyntaxError",
          "evalue": "invalid syntax (2427767721.py, line 1)",
          "output_type": "error",
          "traceback": [
            "\u001b[1;36m  Cell \u001b[1;32mIn[13], line 1\u001b[1;36m\u001b[0m\n\u001b[1;33m    min =\u001b[0m\n\u001b[1;37m         ^\u001b[0m\n\u001b[1;31mSyntaxError\u001b[0m\u001b[1;31m:\u001b[0m invalid syntax\n"
          ]
        }
      ],
      "source": [
        "min =\n",
        "max =\n",
        "q1 =\n",
        "q3 =\n",
        "iqr ="
      ]
    },
    {
      "cell_type": "markdown",
      "metadata": {
        "id": "m53Dv3n5JHQi"
      },
      "source": [
        "Compute the **variance** and **standard deviation**"
      ]
    },
    {
      "cell_type": "code",
      "execution_count": null,
      "metadata": {
        "id": "6JFaAYdrJbeN"
      },
      "outputs": [],
      "source": [
        "variance =\n",
        "std_dev ="
      ]
    },
    {
      "cell_type": "markdown",
      "metadata": {
        "id": "5eup4hI1JzqX"
      },
      "source": [
        "Compute the **skewness** and **kurtosis**\n",
        "\n",
        "You can use [`scipy.stats.skew`](https://docs.scipy.org/doc/scipy/reference/generated/scipy.stats.skew.html) and [`scipy.stats.kurtosis`](https://docs.scipy.org/doc/scipy/reference/generated/scipy.stats.kurtosis.html)"
      ]
    },
    {
      "cell_type": "code",
      "execution_count": null,
      "metadata": {
        "id": "YO3obyDnJ3_D"
      },
      "outputs": [],
      "source": [
        "skewness =\n",
        "kurtosis ="
      ]
    },
    {
      "cell_type": "markdown",
      "metadata": {
        "id": "a5UNc8PUKnbU"
      },
      "source": [
        "## NumPy Correlation Calculation"
      ]
    },
    {
      "cell_type": "markdown",
      "metadata": {
        "id": "cLiqxE1CMNTg"
      },
      "source": [
        "Create an array x of integers between 10 (inclusive) and 20 (exclusive). Use `np.arange()`"
      ]
    },
    {
      "cell_type": "code",
      "execution_count": null,
      "metadata": {
        "id": "5LAaQ6w5L-2L"
      },
      "outputs": [],
      "source": [
        "x ="
      ]
    },
    {
      "cell_type": "markdown",
      "metadata": {
        "id": "qyCIaukNMZPf"
      },
      "source": [
        "Then use `np.array()` to create a second array y containing 10 arbitrary integers."
      ]
    },
    {
      "cell_type": "code",
      "execution_count": null,
      "metadata": {
        "id": "p27eW__gNMdh"
      },
      "outputs": [],
      "source": [
        "y = np.array([1, 3, 5, 6, 8, 5, 7, 6])"
      ]
    },
    {
      "cell_type": "markdown",
      "metadata": {
        "id": "Kh_VeKwINSqS"
      },
      "source": [
        "Once you have two arrays of the same length, you can compute the **correlation coefficient** between x and y"
      ]
    },
    {
      "cell_type": "code",
      "execution_count": null,
      "metadata": {
        "id": "yrtC6rPkNSDC"
      },
      "outputs": [],
      "source": [
        "r ="
      ]
    },
    {
      "cell_type": "markdown",
      "metadata": {
        "id": "vXieLjYiNtPi"
      },
      "source": [
        "## Pandas Correlation Calculation"
      ]
    },
    {
      "cell_type": "markdown",
      "metadata": {
        "id": "z56t0k0qNvkr"
      },
      "source": [
        "Run the code below"
      ]
    },
    {
      "cell_type": "code",
      "execution_count": null,
      "metadata": {
        "id": "9AVBMJCyNuwb"
      },
      "outputs": [],
      "source": [
        "x = pd.Series(range(10, 20))\n",
        "y = pd.Series([2, 1, 4, 5, 8, 12, 18, 25, 96, 48])"
      ]
    },
    {
      "cell_type": "markdown",
      "metadata": {
        "id": "ZajVXYe2OCih"
      },
      "source": [
        "Call the relevant method  to calculate Pearson's r correlation."
      ]
    },
    {
      "cell_type": "code",
      "execution_count": null,
      "metadata": {
        "id": "Ak_rkzbLOafj"
      },
      "outputs": [],
      "source": [
        "r ="
      ]
    },
    {
      "cell_type": "markdown",
      "metadata": {
        "id": "we7pg7kdOo7y"
      },
      "source": [
        "## Seaborn Dataset Tips"
      ]
    },
    {
      "cell_type": "markdown",
      "metadata": {
        "id": "VlzgFKN7OvqX"
      },
      "source": [
        "Import Seaborn Library"
      ]
    },
    {
      "cell_type": "code",
      "execution_count": null,
      "metadata": {
        "id": "t-49JRRqO4pw"
      },
      "outputs": [],
      "source": [
        "import"
      ]
    },
    {
      "cell_type": "markdown",
      "metadata": {
        "id": "0INVBB4tO4y4"
      },
      "source": [
        "Load \"tips\" dataset from Seaborn"
      ]
    },
    {
      "cell_type": "code",
      "execution_count": null,
      "metadata": {
        "id": "kieLvcM1PBv7"
      },
      "outputs": [],
      "source": [
        "tips = sns.load_dataset(\"tips\")"
      ]
    },
    {
      "cell_type": "markdown",
      "metadata": {
        "id": "o2ISqVQrPh5S"
      },
      "source": [
        "Generate descriptive statistics include those that summarize the central tendency, dispersion"
      ]
    },
    {
      "cell_type": "code",
      "execution_count": null,
      "metadata": {
        "id": "FyFvmdbJPVg6"
      },
      "outputs": [],
      "source": []
    },
    {
      "cell_type": "markdown",
      "metadata": {
        "id": "3yCRK4VJPzRo"
      },
      "source": [
        "Call the relevant method to calculate pairwise Pearson's r correlation of columns (plus heatmap)"
      ]
    },
    {
      "cell_type": "code",
      "execution_count": null,
      "metadata": {
        "id": "qwvGzDU8PGnM"
      },
      "outputs": [],
      "source": []
    }
  ],
  "metadata": {
    "colab": {
      "provenance": [],
      "include_colab_link": true
    },
    "kernelspec": {
      "display_name": "Python 3 (ipykernel)",
      "language": "python",
      "name": "python3"
    },
    "language_info": {
      "codemirror_mode": {
        "name": "ipython",
        "version": 3
      },
      "file_extension": ".py",
      "mimetype": "text/x-python",
      "name": "python",
      "nbconvert_exporter": "python",
      "pygments_lexer": "ipython3",
      "version": "3.11.7"
    }
  },
  "nbformat": 4,
  "nbformat_minor": 0
}